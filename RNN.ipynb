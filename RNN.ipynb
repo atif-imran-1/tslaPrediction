{
 "cells": [
  {
   "cell_type": "code",
   "execution_count": null,
   "id": "26898f0a",
   "metadata": {},
   "outputs": [],
   "source": [
    "from tensorflow.keras.models import Sequential\n",
    "from tensorflow.keras.layers import Activation, Dense, Dropout\n",
    "import matplotlib.pyplot as plt\n",
    "import numpy as np\n",
    "import pandas as pd\n",
    "from sklearn.metrics import mean_absolute_error"
   ]
  },
  {
   "cell_type": "code",
   "execution_count": null,
   "id": "068863c7",
   "metadata": {},
   "outputs": [],
   "source": [
    "data = pd.read_csv(\"dataset.csv\")\n",
    "data = data.iloc[:,0:6]\n",
    "y = data.loc[:,['Close/Last','Date']]\n",
    "y = data.iloc[:,0:2]\n",
    "data = data.drop(['Close/Last'],axis='columns')\n",
    "print(data.head(5))\n",
    "print(y.head(5))"
   ]
  },
  {
   "cell_type": "code",
   "execution_count": null,
   "id": "fbc6c155",
   "metadata": {},
   "outputs": [],
   "source": [
    "y = y.set_index('Date')\n",
    "y.index = pd.to_datetime(y.index,unit='ns')\n",
    "print(y.index)"
   ]
  },
  {
   "cell_type": "code",
   "execution_count": null,
   "id": "13fe270a",
   "metadata": {},
   "outputs": [],
   "source": [
    "data = data.set_index('Date')\n",
    "data.index = pd.to_datetime(data.index,unit='ns')\n",
    "print(data.index)"
   ]
  },
  {
   "cell_type": "code",
   "execution_count": null,
   "id": "97dd24c9",
   "metadata": {},
   "outputs": [],
   "source": [
    "import sklearn\n",
    "from sklearn.model_selection import train_test_split\n",
    "\n",
    "X_train = data[400:]\n",
    "X_test = data[:400]\n",
    "\n",
    "y_train = y[400:]\n",
    "y_test = y[:400]"
   ]
  },
  {
   "cell_type": "code",
   "execution_count": null,
   "id": "50dba6b4",
   "metadata": {},
   "outputs": [],
   "source": [
    "aim = ['Close/Last']"
   ]
  },
  {
   "cell_type": "code",
   "execution_count": null,
   "id": "5591bf6b",
   "metadata": {},
   "outputs": [],
   "source": [
    "def line_plot(line1, line2, label1=None, label2=None, title='', lw=2):\n",
    "    fig, ax = plt.subplots(1, figsize=(13, 7))\n",
    "    ax.plot(line1, label=label1, linewidth=lw)\n",
    "    ax.plot(line2, label=label2, linewidth=lw)\n",
    "    ax.set_ylabel('TESLA/USD', fontsize=14)\n",
    "    ax.set_title(title, fontsize=16)\n",
    "    ax.legend(loc='best', fontsize=16);"
   ]
  },
  {
   "cell_type": "code",
   "execution_count": null,
   "id": "981860e2",
   "metadata": {},
   "outputs": [],
   "source": [
    "line_plot(y_train[aim], y_test[aim], 'training', 'test', title='')"
   ]
  },
  {
   "cell_type": "code",
   "execution_count": null,
   "id": "9da46ffa",
   "metadata": {},
   "outputs": [],
   "source": [
    "from sklearn.preprocessing import MinMaxScaler\n",
    "scaler = MinMaxScaler()"
   ]
  },
  {
   "cell_type": "code",
   "execution_count": null,
   "id": "aab35e5a",
   "metadata": {},
   "outputs": [],
   "source": [
    "X_train = scaler.fit_transform(X_train)\n",
    "X_test = scaler.fit_transform(X_test)\n",
    "y_train = scaler.fit_transform(y_train)\n",
    "y_test = scaler.fit_transform(y_test)"
   ]
  },
  {
   "cell_type": "code",
   "execution_count": null,
   "id": "8335fc48",
   "metadata": {},
   "outputs": [],
   "source": [
    "import numpy as np\n",
    "X_train = np.expand_dims(X_train, axis=1)\n",
    "X_test = np.expand_dims(X_test,axis=1)"
   ]
  },
  {
   "cell_type": "code",
   "execution_count": null,
   "id": "4ee15f05",
   "metadata": {},
   "outputs": [],
   "source": [
    "X_train.shape"
   ]
  },
  {
   "cell_type": "code",
   "execution_count": null,
   "id": "1d15d47d",
   "metadata": {},
   "outputs": [],
   "source": [
    "from tensorflow.python.keras.layers import SimpleRNNCell\n",
    "from tensorflow.python.keras.layers import RNN\n",
    "def build_RNN_model(input_data, output_size, neurons, activ_func='tanh',\n",
    "                     dropout=0.21, loss='mse', optimizer='adam'):\n",
    "    model = Sequential()\n",
    "    model.add(RNN(cell=[SimpleRNNCell(256),\n",
    "                                      SimpleRNNCell(512),\n",
    "                                      SimpleRNNCell(1024)],input_shape=(1,4)))\n",
    "    model.add(Dropout(dropout))\n",
    "    model.add(Dense(units=64*4))\n",
    "    model.add(Activation(\"relu\"))\n",
    "    model.add(Dropout(dropout))\n",
    "    model.add(Dense(units=output_size))\n",
    "    model.add(Activation(activ_func))\n",
    "\n",
    "    model.compile(loss=loss, optimizer=optimizer)\n",
    "    return model\n",
    "np.random.seed(1024)\n",
    "rnn_neurons = 256\n",
    "epochs = 16\n",
    "batch_size = 32\n",
    "loss = 'mse'\n",
    "dropout = 0.25\n",
    "optimizer = 'adam'"
   ]
  },
  {
   "cell_type": "code",
   "execution_count": null,
   "id": "c6ca45d0",
   "metadata": {},
   "outputs": [],
   "source": [
    "model = build_RNN_model(\n",
    "    X_train, output_size=1, neurons=rnn_neurons, dropout=dropout, loss=loss,\n",
    "    optimizer=optimizer)\n",
    "modelfit = model.fit(\n",
    "    X_train, y_train, validation_data=(X_test, y_test), epochs=epochs, batch_size=batch_size, verbose=1, shuffle=True)"
   ]
  },
  {
   "cell_type": "code",
   "execution_count": null,
   "id": "8fba8d5f",
   "metadata": {},
   "outputs": [],
   "source": [
    "import matplotlib.pyplot as plt\n",
    "plt.plot(modelfit.history['loss'],'r',linewidth=2, label='Training loss')\n",
    "plt.plot(modelfit.history['val_loss'], 'g',linewidth=2, label='Validation loss')\n",
    "plt.title('RNN Neural Networks -TESLA Model')\n",
    "plt.xlabel('Epochs numbers')\n",
    "plt.ylabel('MSE numbers')\n",
    "plt.show()"
   ]
  },
  {
   "cell_type": "code",
   "execution_count": null,
   "id": "08ff1ab6",
   "metadata": {},
   "outputs": [],
   "source": [
    "preds = model.predict(X_test).squeeze()\n",
    "mean_absolute_error(preds, y_test)"
   ]
  },
  {
   "cell_type": "code",
   "execution_count": null,
   "id": "6e5f28a6",
   "metadata": {},
   "outputs": [],
   "source": [
    "from sklearn.metrics import mean_squared_error\n",
    "SCORE_MSE=mean_squared_error(preds, y_test)\n",
    "SCORE_MSE"
   ]
  },
  {
   "cell_type": "code",
   "execution_count": null,
   "id": "82ec5622",
   "metadata": {},
   "outputs": [],
   "source": [
    "from sklearn.metrics import r2_score\n",
    "r2_score=r2_score(y_test, preds)\n",
    "r2_score*100"
   ]
  },
  {
   "cell_type": "code",
   "execution_count": null,
   "id": "cb113d99",
   "metadata": {},
   "outputs": [],
   "source": [
    "y_testt = scaler.inverse_transform(y_test)\n",
    "predd = scaler.inverse_transform(preds.reshape(400,1))\n",
    "line_plot(y_testt, predd, 'training', 'test', title='')"
   ]
  },
  {
   "cell_type": "code",
   "execution_count": null,
   "id": "84f9f870",
   "metadata": {},
   "outputs": [],
   "source": [
    "prediction = np.array([18337900,1043.21,1048.44,1022.44]).reshape(1,4)\n",
    "prediction = np.expand_dims(prediction, axis=0)"
   ]
  },
  {
   "cell_type": "code",
   "execution_count": null,
   "id": "a20b7122",
   "metadata": {},
   "outputs": [],
   "source": [
    "predictions = model.predict(prediction)\n",
    "predictions[0][0]"
   ]
  },
  {
   "cell_type": "code",
   "execution_count": null,
   "id": "7272dde1",
   "metadata": {},
   "outputs": [],
   "source": [
    "prediction = scaler.inverse_transform(predictions)\n",
    "prediction[0][0]"
   ]
  },
  {
   "cell_type": "code",
   "execution_count": null,
   "id": "03d3c126",
   "metadata": {},
   "outputs": [],
   "source": [
    "real = 245.6\n",
    "accuracy = prediction[0][0]/real\n",
    "print(f\"\"\"{predictions[0][0]} equals of {prediction[0][0]} == Prediction\n",
    "Real Tesla Value (for 02/7/2020) is 245.6 USD\n",
    "RNN Accuracy is {accuracy*100} \"\"\")"
   ]
  }
 ],
 "metadata": {
  "kernelspec": {
   "display_name": "Python 3 (ipykernel)",
   "language": "python",
   "name": "python3"
  },
  "language_info": {
   "codemirror_mode": {
    "name": "ipython",
    "version": 3
   },
   "file_extension": ".py",
   "mimetype": "text/x-python",
   "name": "python",
   "nbconvert_exporter": "python",
   "pygments_lexer": "ipython3",
   "version": "3.10.4"
  }
 },
 "nbformat": 4,
 "nbformat_minor": 5
}
